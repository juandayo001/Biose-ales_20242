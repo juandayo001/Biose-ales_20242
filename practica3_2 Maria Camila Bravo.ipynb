{
 "cells": [
  {
   "cell_type": "markdown",
   "metadata": {},
   "source": [
    "# Practica 3 parte 2 \n",
    "### Presentado por: Maria Camila Bravo\n"
   ]
  },
  {
   "cell_type": "markdown",
   "metadata": {},
   "source": [
    "#### Se cuenta con señales de EEG de dos grupos de personas, un grupo control y un grupo de pacientes con enfermedad de Parkinson. Se tiene evidencia que la energía de las señales de EEG puede conducir a diferenciar entre señales de pacientes con enfermedad de Parkinson y sanos. Primero se importan las librerias correspondientes y se carga la carpeta que contiene los datos correspondientes."
   ]
  },
  {
   "cell_type": "code",
   "execution_count": 294,
   "metadata": {},
   "outputs": [],
   "source": [
    "import os\n",
    "import scipy.io as sio;\n",
    "from scipy.io import loadmat\n",
    "from scipy.fftpack import fft;\n",
    "import matplotlib.pyplot as plt;\n",
    "import numpy as np;\n",
    "import pandas as pd\n",
    "from scipy.stats import shapiro, levene, ttest_ind, mannwhitneyu \n",
    "\n",
    "#import yasa\n"
   ]
  },
  {
   "cell_type": "code",
   "execution_count": 29,
   "metadata": {},
   "outputs": [
    {
     "name": "stdout",
     "output_type": "stream",
     "text": [
      "Archive:  datos_senales_datos_parkinson_cursos.zip\n",
      "   creating: control/\n",
      "  inflating: control/C001R_EP_reposo.mat  \n",
      "  inflating: control/C002_EP_reposo.mat  \n",
      "  inflating: control/C004_EP_reposo.mat  \n",
      "  inflating: control/C005_EP_reposo_Repetido.mat  \n",
      "  inflating: control/C006_EP_reposo.mat  \n",
      "  inflating: control/C007_EP_reposo.mat  \n",
      "  inflating: control/C010_EP_reposo.mat  \n",
      "  inflating: control/C011_EP_reposo.mat  \n",
      "  inflating: control/C012_EP_reposo.mat  \n",
      "  inflating: control/C013_EP_reposo.mat  \n",
      "  inflating: control/C015_EP_reposo.mat  \n",
      "  inflating: control/C018_EP_reposo.mat  \n",
      "  inflating: control/C019_EP_reposo.mat  \n",
      "  inflating: control/C020_EP_reposo.mat  \n",
      "  inflating: control/C021_EP_reposo.mat  \n",
      "  inflating: control/C023_EP_reposo.mat  \n",
      "  inflating: control/C024_EP_reposo.mat  \n",
      "  inflating: control/C025_EP_reposo.mat  \n",
      "  inflating: control/C026_EP_reposo.mat  \n",
      "  inflating: control/C027_EP_reposo.mat  \n",
      "  inflating: control/C028_EP_reposo.mat  \n",
      "  inflating: control/C029_EP_reposo.mat  \n",
      "  inflating: control/C030_EP_reposo.mat  \n",
      "  inflating: control/C031_EP_reposo.mat  \n",
      "  inflating: control/C032_EP_reposo.mat  \n",
      "  inflating: control/C033R_EP_reposo.mat  \n",
      "  inflating: control/C034_EP_reposo.mat  \n",
      "  inflating: control/C036_EP_reposo.mat  \n",
      "  inflating: control/C037_EP_reposo.mat  \n",
      "  inflating: control/C040_EP_reposo.mat  \n",
      "  inflating: control/C041_EP_reposo.mat  \n",
      "  inflating: control/C042_EP_reposo.mat  \n",
      "  inflating: control/C044_EP_reposo.mat  \n",
      "  inflating: control/C045_EP_reposo.mat  \n",
      "  inflating: control/C046_EP_reposo.mat  \n",
      "  inflating: control/C049_EP_reposo.mat  \n",
      "   creating: parkinson/\n",
      "  inflating: parkinson/P001_EP_reposo.mat  \n",
      "  inflating: parkinson/P004_EP_reposo.mat  \n",
      "  inflating: parkinson/P005_EP_reposo.mat  \n",
      "  inflating: parkinson/P007_EP_reposo.mat  \n",
      "  inflating: parkinson/P012_EP_reposo.mat  \n",
      "  inflating: parkinson/P013_EP_reposo.mat  \n",
      "  inflating: parkinson/P015_EP_reposo.mat  \n",
      "  inflating: parkinson/P016_EP_reposo.mat  \n",
      "  inflating: parkinson/P017_EP_reposo.mat  \n",
      "  inflating: parkinson/P018_EP_reposo.mat  \n",
      "  inflating: parkinson/P020_EP_reposo.mat  \n",
      "  inflating: parkinson/P025_EP_reposo.mat  \n",
      "  inflating: parkinson/P026_EP_reposo.mat  \n",
      "  inflating: parkinson/P028_EP_reposo.mat  \n",
      "  inflating: parkinson/P030_EP_reposo.mat  \n",
      "  inflating: parkinson/P032_EP_reposo.mat  \n",
      "  inflating: parkinson/P033_EP_reposo.mat  \n",
      "  inflating: parkinson/P034_EP_reposo.mat  \n",
      "  inflating: parkinson/P040_EP_reposo.mat  \n",
      "  inflating: parkinson/P041_EP_reposo.mat  \n",
      "  inflating: parkinson/P046_EP_reposo.mat  \n",
      "  inflating: parkinson/P048_EP_reposo.mat  \n",
      "  inflating: parkinson/P049_EP_reposo.mat  \n"
     ]
    }
   ],
   "source": [
    "!unzip datos_senales_datos_parkinson_cursos.zip"
   ]
  },
  {
   "cell_type": "markdown",
   "metadata": {},
   "source": [
    "## Señal Control\n",
    "#### La señal control cuenta con 36 archivos, 8 canales o sensores donde Cada fila en senal_continua corresponde a un canal de EEG y  358000  representa el número total de muestras en el tiempo. "
   ]
  },
  {
   "cell_type": "code",
   "execution_count": 249,
   "metadata": {},
   "outputs": [
    {
     "name": "stdout",
     "output_type": "stream",
     "text": [
      "/Users/mcamilabravo/Documents/Universidad 2024:2/Biosenales/Practica3 segunda parte \n",
      "Cantidad de sujetos en el grupo de control: 36\n"
     ]
    }
   ],
   "source": [
    "directorio_actual=os.getcwd() #Ruta actual dentro de la consola.\n",
    "print(directorio_actual)\n",
    "#listando los archivos en el directorio\n",
    "archivos=os.listdir(directorio_actual + \"/control\")\n",
    "numero_de_sujetos_control = len(archivos)\n",
    "print(f\"Cantidad de sujetos en el grupo de control: {numero_de_sujetos_control}\")\n",
    "\n",
    "#Datos de Fs y Numero de canales.\n",
    "\n",
    "fs = 1000;\n",
    "num_canales = 8;"
   ]
  },
  {
   "cell_type": "code",
   "execution_count": 253,
   "metadata": {},
   "outputs": [
    {
     "name": "stdout",
     "output_type": "stream",
     "text": [
      "Cantidad de señales continuas cargadas: 36\n"
     ]
    }
   ],
   "source": [
    "# Inicializar una lista para almacenar los datos de todos los sujetos\n",
    "#CARGAMOS LOS CONTROLES:\n",
    "datos_control = []\n",
    "for i in range(0,len(archivos)):  #Itera sobre todos los archivos listados \n",
    "    #ruta de un archivo\n",
    "    sujetoi=(directorio_actual + \"/control\" + \"/\" + archivos[i]);  #Eleccion del archivo\n",
    "    \n",
    "    #1 CARGAR EL ARCHIVO\n",
    "    data = sio.loadmat(sujetoi);\n",
    "    data = data[\"data\"];\n",
    "    \n",
    "    #2 VOLVERLO CONTINUO\n",
    "    num_canales = data.shape[0];  #8 Canales\n",
    "    puntos = data.shape[1];#2000 puntos\n",
    "    epocas = data.shape[2]; #179 epocas\n",
    "\n",
    "    senal_continua = np.reshape(data,(sensores, puntos*epocas), order = 'F');\n",
    "    datos_control.append(senal_continua)#Dentro del bucle para que se añadan todos\n",
    "\n",
    "senal_continua.shape  #concatenación de todas las épocas para cada canal en una sola línea de tiempo continua.\n",
    "#numero de canales 8 y numero de muestres 358000\n",
    "print(f\"Cantidad de señales continuas cargadas: {len(datos_control)}\")"
   ]
  },
  {
   "cell_type": "markdown",
   "metadata": {},
   "source": [
    "### 1. Energia promedio de cada canal para Control "
   ]
  },
  {
   "cell_type": "code",
   "execution_count": 259,
   "metadata": {},
   "outputs": [],
   "source": [
    "# Definir la función para calcular la energía promedio\n",
    "def calcular_energia_promedio(senal):\n",
    "    # Calcular energía promedio usando la fórmula\n",
    "    return np.mean(np.square(senal))"
   ]
  },
  {
   "cell_type": "code",
   "execution_count": 260,
   "metadata": {},
   "outputs": [
    {
     "name": "stdout",
     "output_type": "stream",
     "text": [
      "Energía promedio por canal control:\n",
      "[ 17.01825139  17.63812112  18.86401709  15.20150639  16.12751223\n",
      "  74.90246183  97.10929381 135.0805786 ]\n"
     ]
    }
   ],
   "source": [
    "# Inicializar una lista para almacenar la energía promedio de cada canal \n",
    "energia_promedio_canales = []\n",
    "\n",
    "# Aplicar el análisis canal por canal\n",
    "for c in range(num_canales):\n",
    "    # Obtener la señal del canal c\n",
    "    señal_canal = senal_continua[c]\n",
    "    \n",
    "    # Calcular la energía promedio del canal\n",
    "    energia_promedio = calcular_energia_promedio(señal_canal)\n",
    "    \n",
    "    # Almacenar el resultado\n",
    "    energia_promedio_canales.append(energia_promedio)\n",
    "\n",
    "# Convertir la lista a un array para facilitar el análisis\n",
    "energia_promedio_canales_control = np.array(energia_promedio_canales)\n",
    "\n",
    "print(\"Energía promedio por canal control:\")\n",
    "print(energia_promedio_canales_control)\n"
   ]
  },
  {
   "cell_type": "markdown",
   "metadata": {},
   "source": [
    "### 2. Energía de cada canal promediada por épocas para cada sujeto y DataFrame CONTROL"
   ]
  },
  {
   "cell_type": "code",
   "execution_count": 272,
   "metadata": {},
   "outputs": [],
   "source": [
    "def calcular_energia_promediada_por_epocas(senal_continua, epocas):\n",
    "\n",
    "    num_canales = senal_continua.shape[0]  # Número de canales\n",
    "    puntos_totales = senal_continua.shape[1]\n",
    "    puntos_por_epoca = puntos_totales // epocas  # Puntos por cada época\n",
    "    \n",
    "    energia_promedio_canales = []  # Lista para almacenar la energía promedio por canal\n",
    "    \n",
    "    for canal in range(num_canales):  # Iterar por cada canal\n",
    "        senal_canal = senal_continua[canal]\n",
    "        energia_por_epoca = []  # Energía para cada época del canal\n",
    "        \n",
    "        for e in range(epocas):\n",
    "            # Selecciona los puntos correspondientes a la época 'e'\n",
    "            inicio = e * puntos_por_epoca\n",
    "            fin = (e + 1) * puntos_por_epoca\n",
    "            epoca = senal_canal[inicio:fin]\n",
    "            \n",
    "            # Calcula la energía de la época (mean square)\n",
    "            energia = np.mean(np.square(epoca))\n",
    "            energia_por_epoca.append(energia)\n",
    "        \n",
    "        # Promediar las energías de todas las épocas para este canal\n",
    "        energia_promedio_canales.append(np.mean(energia_por_epoca))\n",
    "    \n",
    "    return np.array(energia_promedio_canales)  # Convertir la lista en un array para facilidad\n",
    "\n"
   ]
  },
  {
   "cell_type": "markdown",
   "metadata": {},
   "source": [
    "Data Frame"
   ]
  },
  {
   "cell_type": "code",
   "execution_count": 291,
   "metadata": {},
   "outputs": [
    {
     "name": "stdout",
     "output_type": "stream",
     "text": [
      "DataFrame Control:\n",
      "      Canal_1    Canal_2    Canal_3    Canal_4    Canal_5     Canal_6  \\\n",
      "0   15.621618  12.111770  14.150609  12.690874  16.541168  120.431804   \n",
      "1    5.359481   4.339551   1.419110   2.123971   3.971082   12.362454   \n",
      "2   12.905743  15.577546  14.323545  10.514859   9.126292   74.126960   \n",
      "3   27.070853  24.556092  26.600279  28.614076  28.411836  119.847082   \n",
      "4   11.665239  10.896892  10.028722   9.352099  10.595360   45.683183   \n",
      "5    8.136586   6.538135   6.887906   6.397830   7.011121   35.315358   \n",
      "6   17.653981  17.458086  19.401116  17.715881  17.955090   53.302166   \n",
      "7   22.237855  34.294858  38.740979  39.893348  35.193218  172.686667   \n",
      "8    5.709733   6.946824   7.844472   4.654283   4.959270   19.275091   \n",
      "9   13.702045  10.524151  22.542188  24.744996  20.109301   21.146509   \n",
      "10   5.920073  13.227344   7.605477   6.487922   7.187253    3.607089   \n",
      "11   7.400969  12.688847   7.179754   6.144222   5.847458   16.747375   \n",
      "12   3.526646   3.242000   3.367157   3.233817   3.353831    8.643804   \n",
      "13   8.784650  10.872591  14.719622  14.268664  12.293509   36.645771   \n",
      "14   7.985213   8.811023  10.404105   9.828057   8.341123   46.930269   \n",
      "15   9.256197   9.867371  10.454732  10.915869  11.678317   26.546064   \n",
      "16  14.272743  13.104357   8.693496   8.625118  13.107839   41.699226   \n",
      "17   8.110129   6.446295   6.192195   6.082730   9.639921   28.875165   \n",
      "18   4.566583   4.607934   5.813757   5.405948   5.235207   23.173611   \n",
      "19  10.532417   8.852930   9.153547  11.220684  11.206854   21.674982   \n",
      "20   7.075788   9.143677  14.375499   7.135993  14.394180    7.331831   \n",
      "21  23.586493  27.554726  26.143504  17.338417  15.301368  113.512499   \n",
      "22   6.675974   6.037158   6.026199   6.768817   6.709612   19.440853   \n",
      "23   5.600383   5.475789   6.368997   5.372480   5.163894   10.728963   \n",
      "24   6.591771   6.964305   8.111585   6.164056   7.031499   12.886816   \n",
      "25  16.160167  18.848772  21.306571  14.626092  13.446959   34.128271   \n",
      "26   8.264038   9.039009  12.533878  11.474078  12.170275   35.063168   \n",
      "27   4.850217   4.154815   5.636557   3.568993   5.142874    8.077820   \n",
      "28   5.961803   6.191153   5.773006   5.808455   9.329531   21.032597   \n",
      "29  22.732209  21.336363  22.074914  25.420760  29.636998  126.949587   \n",
      "30   7.768277  13.585670  15.647511  11.018779   7.691097   26.217078   \n",
      "31  16.552944  18.545682  24.109420  18.881275  14.173705   50.594931   \n",
      "32  10.732011  10.492116  11.379484   9.255060  14.868071   12.622663   \n",
      "33   2.457486   3.052909   2.583798   2.068883   2.052008   10.179882   \n",
      "34  13.822558  15.158174  18.799541  12.906152  13.915211   11.055381   \n",
      "35  17.022258  17.642900  18.868044  15.202187  16.125562   74.900904   \n",
      "\n",
      "       Canal_7     Canal_8  \n",
      "0    78.023519  139.061010  \n",
      "1    10.533445    9.782956  \n",
      "2    61.990298   69.568459  \n",
      "3    97.453861  190.835341  \n",
      "4    30.453613   26.671912  \n",
      "5    35.034336   34.771599  \n",
      "6    53.448701   56.260879  \n",
      "7   107.836997  149.439279  \n",
      "8    18.331606   24.477719  \n",
      "9    16.592969   17.079232  \n",
      "10    7.931682    9.735070  \n",
      "11   16.216592   17.774123  \n",
      "12    8.303766    9.175774  \n",
      "13   34.385175   33.985487  \n",
      "14   33.430608   37.850117  \n",
      "15   18.751481   21.535849  \n",
      "16   25.568126   33.936860  \n",
      "17   26.767135   34.424338  \n",
      "18   22.853395   25.046049  \n",
      "19   18.368022   22.947963  \n",
      "20    7.971559    9.750758  \n",
      "21  112.418232  161.046320  \n",
      "22   18.975005   18.519578  \n",
      "23    7.747919   13.710173  \n",
      "24   10.970464   11.416847  \n",
      "25   26.213838   36.061341  \n",
      "26   31.758217   35.947861  \n",
      "27    7.867332   10.480613  \n",
      "28   17.211418   23.088852  \n",
      "29  107.300555  124.026706  \n",
      "30   26.094676   23.036075  \n",
      "31   43.921154   68.585418  \n",
      "32   11.391056   12.326708  \n",
      "33    8.799537   11.146248  \n",
      "34    8.304637    7.066340  \n",
      "35   97.109143  135.106066  \n"
     ]
    }
   ],
   "source": [
    "# Calcular la energía promedio para cada sujeto en control\n",
    "energias_por_sujeto_control = [calcular_energia_promediada_por_epocas(senal_continua, epocas) for senal_continua in datos_control]\n",
    "\n",
    "# Crear DataFrames\n",
    "df_control = pd.DataFrame(energias_por_sujeto_control, columns=[f'Canal_{i+1}' for i in range(num_canales)])\n",
    "\n",
    "# Mostrar DataFrames\n",
    "print(\"DataFrame Control:\")\n",
    "print(df_control)\n"
   ]
  },
  {
   "cell_type": "markdown",
   "metadata": {},
   "source": [
    "## Señal Parkinson\n",
    "#### La señal control cuenta con 23 archivos. , 8 canales y 334000 muestras."
   ]
  },
  {
   "cell_type": "code",
   "execution_count": 263,
   "metadata": {},
   "outputs": [
    {
     "name": "stdout",
     "output_type": "stream",
     "text": [
      "23\n"
     ]
    }
   ],
   "source": [
    "#listando los archivos en el directorio\n",
    "archivos=os.listdir(directorio_actual + \"/parkinson\")\n",
    "print(len(archivos))"
   ]
  },
  {
   "cell_type": "code",
   "execution_count": 279,
   "metadata": {},
   "outputs": [
    {
     "data": {
      "text/plain": [
       "(8, 334000)"
      ]
     },
     "execution_count": 279,
     "metadata": {},
     "output_type": "execute_result"
    }
   ],
   "source": [
    "datos_Pks=[]\n",
    "#CARGAMOS LOS PARKINSON\n",
    "for i in range(0,len(archivos)):\n",
    "    #ruta de un archivo\n",
    "    sujetoi=(directorio_actual + \"/parkinson\" + \"/\" + archivos[i]);\n",
    "    #1 CARGAR EL ARCHIVO\n",
    "    data = sio.loadmat(sujetoi);\n",
    "    data_park = data[\"data\"];\n",
    "\n",
    "    #2 VOLVERLO CONTINUO\n",
    "    sensores = data_park.shape[0]; #8 Sensores o Canales \n",
    "    puntos = data_park.shape[1];\n",
    "    epocas = data_park.shape[2];# 167 epocas\n",
    "\n",
    "    senal_continua = np.reshape(data_park,(sensores, puntos*epocas), order = 'F');\n",
    "    datos_Pks.append(senal_continua)#Dentro del bucle para que se añadan todos los datos de cada sujeto\n",
    "senal_continua.shape  #concatenación de todas las épocas para cada canal en una sola línea de tiempo continua.\n",
    "#numero de canales 8 y numero de muestres 334000\n"
   ]
  },
  {
   "cell_type": "markdown",
   "metadata": {},
   "source": [
    "### 1.Energia promedio por canal "
   ]
  },
  {
   "cell_type": "code",
   "execution_count": 280,
   "metadata": {},
   "outputs": [
    {
     "name": "stdout",
     "output_type": "stream",
     "text": [
      "Energía promedio por canal Parkinson:\n",
      "[16.09415628 15.57978945 16.17613345 14.40546456 12.68431243 29.76310652\n",
      " 33.10206618 34.51848492]\n"
     ]
    }
   ],
   "source": [
    "# Inicializar una lista para almacenar la energía promedio de cada canal\n",
    "energia_promedio_canales = []\n",
    "\n",
    "# Aplicar el análisis canal por canal\n",
    "for c in range(num_canales):\n",
    "    # Obtener la señal del canal c\n",
    "    señal_canal = senal_continua[c]\n",
    "    \n",
    "    # Calcular la energía promedio del canal\n",
    "    energia_promedio = calcular_energia_promedio(señal_canal)\n",
    "    \n",
    "    # Almacenar el resultado\n",
    "    energia_promedio_canales.append(energia_promedio)\n",
    "\n",
    "# Convertir la lista a un array para facilitar el análisis\n",
    "energia_promedio_canales_Park = np.array(energia_promedio_canales)\n",
    "\n",
    "print(\"Energía promedio por canal Parkinson:\")\n",
    "print(energia_promedio_canales_Park)"
   ]
  },
  {
   "cell_type": "markdown",
   "metadata": {},
   "source": [
    "### 2. Data Frame PARKINSON\n",
    "Se llama la funcion usada anteriormente para calcular la energia promedio por epocas de cada sujerto y en este caso se calcula la de Parkinson"
   ]
  },
  {
   "cell_type": "code",
   "execution_count": 292,
   "metadata": {},
   "outputs": [
    {
     "name": "stdout",
     "output_type": "stream",
     "text": [
      "DataFrame Parkinson:\n",
      "      Canal_1    Canal_2    Canal_3    Canal_4    Canal_5     Canal_6  \\\n",
      "0   11.715748  13.043537  18.323427  12.832433  15.667187   46.856632   \n",
      "1    8.845216  13.315119  16.229732  12.774541  11.703040   28.646978   \n",
      "2   24.966486  23.015287  23.375037  21.556881  21.463061  212.415766   \n",
      "3   15.567346  10.950190   8.576834  10.266452  15.932466   39.901285   \n",
      "4   11.012973  10.622525  13.685840   6.600691   9.186188   42.715753   \n",
      "5   11.870750  11.035755  12.271756  10.903506  11.298854   64.160241   \n",
      "6    8.003055   6.841406   8.013482   7.243178   7.363749   15.723435   \n",
      "7    4.788241   7.004493   4.794374   4.686576   4.076727   14.484882   \n",
      "8    9.000058   6.002863   6.144963   7.394151   8.529812   32.001021   \n",
      "9    8.101012   6.562741   6.994893   6.376937   7.893705   25.367664   \n",
      "10   5.465074   7.334990  10.812381   7.725071   6.735770   14.486582   \n",
      "11  24.294375  25.906598  36.588533  29.852904  28.265830  143.595930   \n",
      "12  19.049285  21.792644  20.994941  20.857630  23.252771  125.773086   \n",
      "13   6.220247   5.631302   5.411074   4.744949   6.046780   11.395704   \n",
      "14   6.078988   6.699824   8.835567   7.421206   5.649085   19.348554   \n",
      "15  14.698792  15.602369  15.326681  12.350441  12.651142   33.969401   \n",
      "16   5.346970   5.421847   6.078063  12.083893   7.395976   21.649791   \n",
      "17   8.388901  10.234021  12.656905  12.014563  10.359864   38.194540   \n",
      "18   7.266162   8.932108  15.062576  14.786128  15.029838   11.044964   \n",
      "19  24.463833  32.164316  42.589048  39.044524  32.898456  229.301033   \n",
      "20  16.949527  16.197953  14.597941  11.718397  12.518682   61.370824   \n",
      "21  11.827470  11.994659  15.320185  11.446571   9.967914   32.576266   \n",
      "22  16.094156  15.579789  16.176133  14.405465  12.684312   29.763107   \n",
      "\n",
      "       Canal_7     Canal_8  \n",
      "0    33.844775   55.566775  \n",
      "1    27.412225   29.836442  \n",
      "2   141.675823  204.467698  \n",
      "3    37.078262   33.251766  \n",
      "4    29.980824   36.178446  \n",
      "5    64.449650   76.407483  \n",
      "6    14.100657   16.562295  \n",
      "7    20.354734   18.311911  \n",
      "8    26.865086   33.211006  \n",
      "9    25.371631   36.839280  \n",
      "10   15.734910   16.267706  \n",
      "11  111.402712  176.701673  \n",
      "12   89.645748  131.148998  \n",
      "13   11.848588   12.803710  \n",
      "14   20.912181   30.649841  \n",
      "15   37.420013   51.750835  \n",
      "16   21.279660   19.525209  \n",
      "17   30.300798   40.794111  \n",
      "18    9.131342    9.226510  \n",
      "19  200.123687  277.064302  \n",
      "20   51.665461   50.424574  \n",
      "21   30.273672   29.225014  \n",
      "22   33.102066   34.518485  \n"
     ]
    }
   ],
   "source": [
    "energias_por_sujeto_parkinson = [calcular_energia_promediada_por_epocas(senal_continua, epocas) for senal_continua in datos_Pks]\n",
    "\n",
    "# Crear DataFrames\n",
    "df_parkinson = pd.DataFrame(energias_por_sujeto_parkinson, columns=[f'Canal_{i+1}' for i in range(num_canales)])\n",
    "\n",
    "# Mostrar DataFrames\n",
    "print(\"DataFrame Parkinson:\")\n",
    "print(df_parkinson)\n"
   ]
  },
  {
   "cell_type": "markdown",
   "metadata": {},
   "source": [
    "## 3. Prueba t y análisis estadístico: \n",
    "#### Para verificar si existen diferencias estadísticas entre los canales de los grupos, utiliza una prueba t, primero comprobando normalidad y homocedasticidad:"
   ]
  },
  {
   "cell_type": "code",
   "execution_count": 304,
   "metadata": {},
   "outputs": [
    {
     "name": "stdout",
     "output_type": "stream",
     "text": [
      "Normalidad Control: p=0.005943167129610663\n",
      "Normalidad Parkinson: p=0.004758337085815334\n",
      "Homocedasticidad: p=0.5980168393358286\n",
      "Prueba U de Mann-Whitney: estadístico=18.0, p=0.1605283605283605\n"
     ]
    }
   ],
   "source": [
    "# Calcular energía promedio por canal\n",
    "energia_control = df_control.mean(axis=0)\n",
    "energia_parkinson = df_parkinson.mean(axis=0)\n",
    "\n",
    "# Verificar normalidad\n",
    "estadistico_norm_control, p_valor_norm_control = shapiro(energia_control)\n",
    "estadistico_norm_parkinson, p_valor_norm_parkinson = shapiro(energia_parkinson)\n",
    "\n",
    "print(f\"Normalidad Control: p={p_valor_norm_control}\")\n",
    "print(f\"Normalidad Parkinson: p={p_valor_norm_parkinson}\")\n",
    "\n",
    "# Verificar homocedasticidad\n",
    "estadistico_levene, p_valor_levene = levene(energia_control, energia_parkinson)\n",
    "print(f\"Homocedasticidad: p={p_valor_levene}\")\n",
    "\n",
    "# Realizar prueba t o prueba U de Mann-Whitney\n",
    "if p_valor_norm_control > 0.05 and p_valor_norm_parkinson > 0.05 and p_valor_levene > 0.05:\n",
    "    # Supuestos cumplidos, realizar prueba t\n",
    "    estadistico_t, p_valor_t = prueba_t(energia_control, energia_parkinson)\n",
    "    print(f\"Prueba t: estadístico={estadistico_t}, p={p_valor_t}\")\n",
    "else:\n",
    "   # Supuestos no cumplidos, realizar prueba U de Mann-Whitney\n",
    "    estadistico_mw, p_valor_mw = mannwhitneyu(energia_control, energia_parkinson)\n",
    "    print(f\"Prueba U de Mann-Whitney: estadístico={estadistico_mw}, p={p_valor_mw}\")"
   ]
  },
  {
   "cell_type": "markdown",
   "metadata": {},
   "source": [
    "# Grafica "
   ]
  },
  {
   "cell_type": "code",
   "execution_count": 307,
   "metadata": {},
   "outputs": [
    {
     "data": {
      "image/png": "[encoded data removed]",
      "text/plain": [
       "<Figure size 1400x1000 with 2 Axes>"
      ]
     },
     "metadata": {},
     "output_type": "display_data"
    }
   ],
   "source": [
    "import matplotlib.pyplot as plt\n",
    "\n",
    "# Definir los nombres de los canales\n",
    "canales = [f'Canal_{i+1}' for i in range(df_control.shape[1])]\n",
    "\n",
    "# Crear subgráficas para cada grupo\n",
    "fig, axs = plt.subplots(2, 1, figsize=(14, 10), sharex=True)\n",
    "\n",
    "# Graficar los datos del grupo de Parkinson\n",
    "axs[0].boxplot(df_parkinson.values, tick_labels=canales, notch=True, patch_artist=True)\n",
    "axs[0].set_title('Energía Promedio por Canal - Grupo Parkinson')\n",
    "axs[0].set_ylabel('Energía Promedio')\n",
    "\n",
    "# Graficar los datos del grupo de Control\n",
    "axs[1].boxplot(df_control.values, tick_labels=canales, notch=True, patch_artist=True)\n",
    "axs[1].set_title('Energía Promedio por Canal - Grupo Control')\n",
    "axs[1].set_xlabel('Canales')\n",
    "axs[1].set_ylabel('Energía Promedio')\n",
    "\n",
    "\n",
    "\n",
    "\n",
    "# Ajustar el diseño de las subgráficas\n",
    "plt.tight_layout()\n",
    "\n",
    "# Mostrar la gráfica\n",
    "plt.show()\n"
   ]
  },
  {
   "cell_type": "markdown",
   "metadata": {},
   "source": [
    "## Observaciones y Analisis de Resultados"
   ]
  },
  {
   "cell_type": "markdown",
   "metadata": {},
   "source": [
    "## 1. Energia Promedio por canales Control y Parkinson \n",
    "#### Energía promedio por canal control:[ 17.01825139  17.63812112  18.86401709  15.20150639  16.12751223 74.90246183  97.10929381 135.0805786 ]\n",
    "\n",
    "#### Energía promedio por canal Parkinson: [16.09415628 15.57978945 16.17613345 14.40546456 12.68431243 29.76310652 33.10206618 34.51848492]\n",
    "\n",
    "#### La energía de una señal mide cuánta \"fuerza\" o \"potencia\" tiene la señal. Mientras que los \"canales\" se refieren a las distintas ubicaciones en el cuero cabelludo donde se colocan los electrodos para medir la actividad eléctrica del cerebro. Cada canal captura la señal de un área específica del cerebro, permitiendo una vista detallada y localizada de la actividad neuronal. Las diferencias en la energía promedio entre los canales del grupo control y del grupo Parkinson son evidentes, especialmente en los canales 6, 7 y 8, donde los pacientes con Parkinson muestran una disminución marcada en la energía a nivel de todos los canales. Cabe destacar que  los valores del grupo control tambien son bastante elevados en los canales 6, 7 y 8, en comparación con los canales 1 a 5. Esta diferencia de disminución en la energía puede ser un indicio de actividad anormal."
   ]
  },
  {
   "cell_type": "markdown",
   "metadata": {},
   "source": [
    "## 2. Energia Promedio por Epocas Control y Parkison y DATAFRAME\n",
    "#### Se calcula la energía de la señal en intervalos temporales (épocas), dividiendo el registro completo en segmentos más pequeños. Esto permite observar cómo varía la energía en el tiempo para cada canal de EEG. En el caso de COntrol para 36 sujentos mientras que para Parkison 23. Después de calcular la energía promedio para cada sujeto en cada grupo, se realizo organizo la información en un Dataframe. Distribuidos entre numero de filas , numero de columnas y Valores que reflejan el promedio de cada sujeto.\n",
    "\n",
    "#### En el DataFrame Parkinson, los valores para cada canal muestran variabilidad en los datos, destacándose en particular los valores elevados en el Canal_6, donde las energías son notablemente más altas en comparación con otros canales. En contraste, a el DataFrame Control presenta valores que, aunque también varían, muestran una mayor uniformidad en muchos canales en comparación con el grupo de Parkinson, con menos picos extremos. Esta diferencia en la variabilidad y los valores altos en algunos canales del grupo de Parkinson puede indicar características distintas en la energía de las señales EEG entre los dos grupos."
   ]
  },
  {
   "cell_type": "markdown",
   "metadata": {},
   "source": [
    "## 3. Pruebas Estadisticas\n",
    "#### Resultados de Normalidad y Homocedasticidad:\n",
    "\n",
    "#### Normalidad: el grupo de Parkison para cada canal no parecen cumplir con la normalidad, ya que los p-valores son menores que 0.05, indicando que los datos no siguen una distribución normal.\n",
    "#### Homocedasticidad: La prueba de Levene para homocedasticidad muestra un p-valor alto (mayor que 0.05), lo que indica que no hay diferencias significativas en las varianzas entre los dos grupos.\n",
    "\n",
    "#### Dado que los datos para Parkison no son normales y la homocedasticidad muestra que no hay muchas diferencias significativas, se uso la prueba U de Mann-Whitney para comparar las energías promedio entre los grupos. confirmando que no hay diferencias estadisticamente significativas en las energias promedio.\n",
    "\n",
    "\n"
   ]
  },
  {
   "cell_type": "markdown",
   "metadata": {},
   "source": [
    "## CONCLUSIONES\n",
    "\n",
    "#### Se identifico que los valores de energia promedio son mayores en el grupo de Control. Esto podria ayudar a demostrar que durante Parkison la energia de la actividad detectada empieza a disminuir.\n",
    "\n",
    "#### Los datos para ambos grupos no siguen una distribución normal, según las pruebas de normalidad. Esto sugiere que se deben utilizar métodos estadísticos no paramétricos para análisis futuros.\n",
    "\n",
    "#### No se encontraron diferencias significativas en las varianzas entre los dos grupos, lo que indica que la homocedasticidad se mantiene. Esto permite la comparación de los grupos sin ajustar por diferencias en la varianza.\n",
    "\n",
    "#### La prueba U de Mann-Whitney no muestra diferencias estadísticamente significativas en la energía promedio por canal entre el grupo de Parkinson y el grupo Control. Esto podría indicar que, a pesar de las diferencias en la variabilidad de los datos, no hay una diferencia clara en la energía promedio entre los grupos.\n",
    "\n",
    "#### Se recomienda realizar un análisis adicional utilizando otras métricas o características de las señales EEG para identificar posibles diferencias más sutiles entre los grupos."
   ]
  },
  {
   "cell_type": "markdown",
   "metadata": {},
   "source": [
    "## REFERNCIAS "
   ]
  },
  {
   "cell_type": "markdown",
   "metadata": {},
   "source": [
    "#### 1. infoSalud. (2019, 21 de mayo). Identifican un biomarcador no invasivo para Parkinson. InfoSalud. https://www.infosalus.com/salud-investigacion/noticia-identifican-biomarcador-no-invasivo-parkinson-20190521081236.html\n",
    "#### 2. National Institute of Neurological Disorders and Stroke. (n.d.). Enfermedad de Parkinson: Esperanza en la investigación. National Institute of Neurological Disorders and Stroke. https://espanol.ninds.nih.gov/es/trastornos/forma-larga/enfermedad-de-parkinson-esperanza-en-la-investigacion"
   ]
  }
 ],
 "metadata": {
  "kernelspec": {
   "display_name": "Python 3",
   "language": "python",
   "name": "python3"
  },
  "language_info": {
   "codemirror_mode": {
    "name": "ipython",
    "version": 3
   },
   "file_extension": ".py",
   "mimetype": "text/x-python",
   "name": "python",
   "nbconvert_exporter": "python",
   "pygments_lexer": "ipython3",
   "version": "3.9.6"
  }
 },
 "nbformat": 4,
 "nbformat_minor": 2
}
