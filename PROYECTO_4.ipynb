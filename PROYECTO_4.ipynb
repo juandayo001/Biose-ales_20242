{
 "cells": [
  {
   "cell_type": "markdown",
   "metadata": {},
   "source": [
    "# Proyecto 4: Clasificación de señales ECG"
   ]
  },
  {
   "cell_type": "markdown",
   "metadata": {},
   "source": [
    "### David Alejandro Henao - Maria Camila Bravo"
   ]
  },
  {
   "cell_type": "markdown",
   "metadata": {},
   "source": [
    "## 1. Revisión teórica. Del artículo:\n",
    "https://www.nature.com/articles/s41598-020-59821-7\n",
    "\n",
    "### Resumen de la sección extracción de caracteríticas (Features extraction) "
   ]
  },
  {
   "cell_type": "markdown",
   "metadata": {},
   "source": [
    "Los métodos tradicionales, como las redes neuronales y las transformadas de Fourier o wavelets, aunque útiles, enfrentan limitaciones al intentar preservar la información temporal esencial y son poco interpretables. Estos enfoques resultan ineficaces para realizar clasificaciones precisas en patologías como la fibrilación auricular (AFIB), donde se presentan distorsiones o la ausencia de ondas clave en el ECG, como la onda P. En vista de que la demanda de diagnósticos automáticos de alta precisión para afecciones cardíacas ,la política de salud pública de implementar procedimientos de cribado más amplios y la adopción de dispositivos portátiles habilitados para ECG ha aumentado, el estudio presenta un nuevo método de extracción de características de ECG. Este método, al igual que otros, deben tener en cuenta la variabilidad interpersonal e intrapersonal de las señales ECG, la distorsión por ruido y la ausencia de ondas o segmentos en muchos casos de arritmia.\n",
    "\n",
    "Este nuevo método para la extracción de características en señales ECG se enfoca en analizar cómo se distribuyen y se relacionan ciertos atributos de las ondas en una señal de ECG, en términos tanto de su forma (morfología) como de su comportamiento en el tiempo Este enfoque permite capturar patrones específicos que no dependen únicamente de la presencia de ondas tradicionales, como la onda P, lo cual es crucial cuando estas ondas están ausentes o distorsionadas, como en el caso de la fibrilación auricular. Además, el proceso de normalización de las señales, junto con la incorporación de factores demográficos como edad y género, permite mejorar la comparabilidad de las señales entre individuos y reducir la variabilidad intrapersonal e interpersonal. Esto aumenta la precisión y robustez del análisis, especialmente en la clasificación de arritmias con señales afectadas por distorsiones o la falta de ondas clave. La integración con algoritmos avanzados como Gradient Boosting Trees mejora aún más la capacidad de clasificación, permitiendo obtener resultados altamente precisos que son comparables a los obtenidos por cardiólogos, incluso en casos complicados de arritmias.\n"
   ]
  },
  {
   "cell_type": "markdown",
   "metadata": {},
   "source": [
    "### Discusión sobre la ausencia de ondas en el complejo PQRS:"
   ]
  },
  {
   "cell_type": "markdown",
   "metadata": {},
   "source": [
    "Cuando desaparecen ciertas ondas del complejo PQRS en el ECG debido a enfermedades, el análisis de la señal se enfrenta a una pérdida de información crucial que complica la interpretación y clasificación de las arritmias. Las estrategias para abordar este desafío se basan en la extracción de características alternativas y métodos analíticos que aprovechan la información restante en la señal. A continuación, se amplían los enfoques previamente descritos:\n",
    "\n",
    "ESTRATEGIAS DE MANEJO:\n",
    "\n",
    "1. Análisis de intervalos RR:\n",
    "Los intervalos RR se calculan como el tiempo entre picos R consecutivos, proporcionando información sobre el ritmo cardíaco y su regularidad.\n",
    "En arritmias como la fibrilación auricular (AFIB), donde las ondas P están ausentes o reemplazadas por ondas de fibrilación, la irregularidad de los intervalos RR es un indicador clave.\n",
    "Este método permite caracterizar ritmos rápidos, lentos e irregulares sin depender de las ondas ausentes.\n",
    "\n",
    "2. Transformada de Fourier y Wavelet:\n",
    "Estas herramientas analizan la señal en el dominio de la frecuencia, ayudando a identificar patrones anómalos asociados con arritmias.\n",
    "La Transformada Wavelet, en particular, permite retener parte de la información temporal, útil para identificar alteraciones en la dinámica de la señal.\n",
    "\n",
    "3. Modelos de Machine Learning:\n",
    "Algoritmos de aprendizaje automático pueden manejar datos incompletos ajustándose dinámicamente a la ausencia de componentes.\n",
    "El uso de características derivadas, como las relaciones entre amplitudes y tiempos de los picos restantes, puede aumentar la precisión del modelo.\n",
    "\n",
    "4. Morfología, duración y patrón del complejo QRS:\n",
    "El análisis del QRS es fundamental cuando las ondas P o T no son detectables.\n",
    "Las duraciones prolongadas del QRS pueden señalar bloqueos de rama derecha o izquierda, mientras que cambios en su morfología pueden indicar arritmias ventriculares [1].\n",
    "Este enfoque es efectivo porque el QRS se mantiene presente en la mayoría de los ECG incluso en condiciones severas[2].\n",
    "\n",
    "### Conclusión\n",
    "La ausencia de ondas en el complejo PQRS exige una combinación de enfoques que van desde el análisis básico de intervalos hasta métodos avanzados basados en aprendizaje automático y análisis espectral. Este enfoque híbrido asegura una interpretación precisa y efectiva, incluso cuando las señales están incompletas o distorsionadas.\n",
    "\n",
    "### REFERENCIAS\n",
    "\n",
    "[1][2] Points, K. (s/f). Electrocardiogram 3: cardiac rhythm and conduction abnormalities. Emap.com. Recuperado el 27 de noviembre de 2024, de https://cdn.ps.emap.com/wp-content/uploads/sites/3/2021/07/210728-Electrocardiogram-3-cardiac-rhythm-and-conduction-abnormalities1.pdf"
   ]
  },
  {
   "cell_type": "markdown",
   "metadata": {},
   "source": [
    "### 2. Selección de base de datos."
   ]
  },
  {
   "cell_type": "markdown",
   "metadata": {},
   "source": []
  },
  {
   "cell_type": "markdown",
   "metadata": {},
   "source": [
    "#### JUSTIFICACIÓN"
   ]
  },
  {
   "cell_type": "markdown",
   "metadata": {},
   "source": []
  },
  {
   "cell_type": "markdown",
   "metadata": {},
   "source": [
    "#### EXTRACCIÓN DE REGISTROS"
   ]
  },
  {
   "cell_type": "code",
   "execution_count": null,
   "metadata": {},
   "outputs": [],
   "source": []
  },
  {
   "cell_type": "markdown",
   "metadata": {},
   "source": [
    "### 3. Herramientas computacionales. Hacer un minitutorial del uso de la herramienta NeuroKit (https://neuropsychology.github.io/NeuroKit/index.html) orientado al análisis de señales ECG (10%)"
   ]
  },
  {
   "cell_type": "markdown",
   "metadata": {},
   "source": []
  },
  {
   "cell_type": "markdown",
   "metadata": {},
   "source": [
    "### 4. Escoger diferentes señales de la base de datos del punto 2 y aplicar el tutorial del punto 3 (5%)."
   ]
  },
  {
   "cell_type": "markdown",
   "metadata": {},
   "source": []
  },
  {
   "cell_type": "markdown",
   "metadata": {},
   "source": [
    "### 5. Con las características que extrae el neurokit y las discutidas en el punto 1 generar un conjunto de características para el presente trabajo. Incluir la característica de frecuencia de potencia máxima del Proyecto 3 (10%). No incluir más de 15 características ni menos de 5, justificar la selección (5%)."
   ]
  },
  {
   "cell_type": "markdown",
   "metadata": {},
   "source": []
  },
  {
   "cell_type": "markdown",
   "metadata": {},
   "source": [
    "#### 6. Crear una rutina que aplique sobre todos los archivos de la base de datos la rutina 5 y almacene los resultados en un dataframe:"
   ]
  },
  {
   "cell_type": "markdown",
   "metadata": {},
   "source": []
  },
  {
   "cell_type": "markdown",
   "metadata": {},
   "source": [
    "Todos los puntos realizados a continuación son con las características definidas"
   ]
  },
  {
   "cell_type": "markdown",
   "metadata": {},
   "source": [
    "### 7. Código y análisis de resultados, donde se discutan por los menos tres diferentes arquitecturas de red (10%) y las matrices de confusión obtenidas (10%), de una red neuronal que permita la clasificación de las dos patologías cardiacas."
   ]
  },
  {
   "cell_type": "markdown",
   "metadata": {},
   "source": []
  },
  {
   "cell_type": "markdown",
   "metadata": {},
   "source": [
    "### 8. Consultar cómo funciona, realizar y discutir un ejemplo con los datos, del algoritmo de K means (10%) y máquinas de soporte vectorial"
   ]
  },
  {
   "cell_type": "markdown",
   "metadata": {},
   "source": []
  },
  {
   "cell_type": "markdown",
   "metadata": {},
   "source": [
    "### 9. Hacer un informe con todos los puntos anteriores (10%). En el informe incluir: Consultar por lo menos tres equipos comerciales traen ya incorporados algoritmos de ayuda diagnóstica a partir de señales EKG (5%) y discutir brevemente las funcionalidades desde la teoría vista en el curso (5%)"
   ]
  },
  {
   "cell_type": "markdown",
   "metadata": {},
   "source": [
    "# CONSULTA "
   ]
  }
 ],
 "metadata": {
  "language_info": {
   "name": "python"
  }
 },
 "nbformat": 4,
 "nbformat_minor": 2
}
